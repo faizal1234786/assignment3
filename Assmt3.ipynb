{
  "nbformat": 4,
  "nbformat_minor": 0,
  "metadata": {
    "colab": {
      "provenance": []
    },
    "kernelspec": {
      "name": "python3",
      "display_name": "Python 3"
    },
    "language_info": {
      "name": "python"
    }
  },
  "cells": [
    {
      "cell_type": "code",
      "execution_count": null,
      "metadata": {
        "colab": {
          "base_uri": "https://localhost:8080/"
        },
        "id": "jFX7THcCkgPY",
        "outputId": "199aeffe-0738-40b2-9296-ba26d0fa13e6"
      },
      "outputs": [
        {
          "output_type": "stream",
          "name": "stdout",
          "text": [
            "Drive already mounted at /content/drive; to attempt to forcibly remount, call drive.mount(\"/content/drive\", force_remount=True).\n"
          ]
        }
      ],
      "source": [
        "from google.colab import drive\n",
        "drive.mount('/content/drive')"
      ]
    },
    {
      "cell_type": "code",
      "source": [
        "#Import the libraries\n",
        "import zipfile\n",
        "import os\n",
        "import tensorflow as tf\n",
        "import matplotlib. pyplot as plt.\n",
        "import matplotlib. image as mpimg.\n",
        "\n",
        "zip_ref = zipfile.ZipFile('/content/drive/MyDrive/train.zip', 'r') #Opens the zip file in read mode\n",
        "zip_ref.extractall('/content/tmp') #Extracts the files into the /tmp folder\n",
        "zip_ref.close()\n",
        "print(len(os.listdir('/content/tmp/train')))"
      ],
      "metadata": {
        "id": "okEscwvqnanS",
        "colab": {
          "base_uri": "https://localhost:8080/"
        },
        "outputId": "665c53c9-0e18-4d04-d3c8-930149bbf5c4"
      },
      "execution_count": null,
      "outputs": [
        {
          "output_type": "stream",
          "name": "stdout",
          "text": [
            "2001\n"
          ]
        }
      ]
    },
    {
      "cell_type": "code",
      "source": [
        "import os\n",
        "import cv2\n",
        "# IMG_SHAPE = 256\n",
        "# BATCH_SIZE = 32\n",
        "mylist = os.listdir('/content/tmp/train')\n",
        "#print(mylist)\n",
        "print(len(mylist))\n",
        "train = []\n",
        "test = []\n",
        "# train_dir = '/tmp/train/'\n",
        "# train_data = tf.keras.utils.image_dataset_from_directory(train_dir, \n",
        "#                                                          labels = \"inferred\", \n",
        "#                                                          color_mode='rgb', \n",
        "#                                                          batch_size=BATCH_SIZE, \n",
        "#           \n",
        "c=0;                                               #image_size=(IMG_SHAPE, IMG_SHAPE))\n",
        "for i in mylist:\n",
        "  if c<1800:\n",
        "    train.append(i)\n",
        "  else:\n",
        "    test.append(i)\n",
        "  c=c+1\n",
        "\n",
        "print(len(train))\n",
        "print(len(test))\n",
        "hsv_train=[]\n",
        "myrootPath = \"/content/tmp/train\"\n",
        "for filename in train:\n",
        "    path = os.path.join(myrootPath,filename)\n",
        "    bgr_img = cv2.imread(path)\n",
        "    if bgr_img is not None:\n",
        "      hsv_train.append(cv2.cvtColor(bgr_img, cv2.COLOR_BGR2HSV))\n",
        "\n",
        "print(len(hsv_train))\n",
        "print(hsv_train[0])"
      ],
      "metadata": {
        "id": "8Ac8fRbTn9aK",
        "colab": {
          "base_uri": "https://localhost:8080/"
        },
        "outputId": "23f825c0-43ab-4f90-cb2c-2e637aaa482a"
      },
      "execution_count": null,
      "outputs": [
        {
          "output_type": "stream",
          "name": "stdout",
          "text": [
            "2001\n",
            "1800\n",
            "201\n",
            "1799\n"
          ]
        }
      ]
    },
    {
      "cell_type": "code",
      "source": [
        "print(hsv_train[0])\n",
        "imgplot = plt. imshow(hsv_train[0])"
      ],
      "metadata": {
        "colab": {
          "base_uri": "https://localhost:8080/"
        },
        "id": "jbBTVg6FO_y8",
        "outputId": "d7b4cb81-ee65-4189-9f1d-bf45d3dec0e2"
      },
      "execution_count": null,
      "outputs": [
        {
          "output_type": "stream",
          "name": "stdout",
          "text": [
            "[[[108  76 255]\n",
            "  [108  76 255]\n",
            "  [108  76 255]\n",
            "  ...\n",
            "  [108  76 255]\n",
            "  [108  76 255]\n",
            "  [108  76 255]]\n",
            "\n",
            " [[108  76 255]\n",
            "  [108  76 255]\n",
            "  [108  76 255]\n",
            "  ...\n",
            "  [108  76 255]\n",
            "  [108  76 255]\n",
            "  [108  76 255]]\n",
            "\n",
            " [[108  76 255]\n",
            "  [108  76 255]\n",
            "  [108  76 255]\n",
            "  ...\n",
            "  [108  76 255]\n",
            "  [108  76 255]\n",
            "  [108  76 255]]\n",
            "\n",
            " ...\n",
            "\n",
            " [[108  76 255]\n",
            "  [108  76 255]\n",
            "  [108  76 255]\n",
            "  ...\n",
            "  [108  76 255]\n",
            "  [108  76 255]\n",
            "  [108  76 255]]\n",
            "\n",
            " [[108  76 255]\n",
            "  [108  76 255]\n",
            "  [108  76 255]\n",
            "  ...\n",
            "  [108  76 255]\n",
            "  [108  76 255]\n",
            "  [108  76 255]]\n",
            "\n",
            " [[108  76 255]\n",
            "  [108  76 255]\n",
            "  [108  76 255]\n",
            "  ...\n",
            "  [108  76 255]\n",
            "  [108  76 255]\n",
            "  [108  76 255]]]\n"
          ]
        }
      ]
    },
    {
      "cell_type": "code",
      "source": [
        "myrootPath = \"/content/tmp/train\"\n",
        "print(hsv_train[0])\n",
        "path_=os.path.join(myrootPath,hsv_train[0])\n",
        "img = mpimg. imread(path_)"
      ],
      "metadata": {
        "id": "BYTHvgw4KKfs",
        "colab": {
          "base_uri": "https://localhost:8080/",
          "height": 1000
        },
        "outputId": "b93eee4c-3cc5-41dc-a0c1-1f9a87178afc"
      },
      "execution_count": null,
      "outputs": [
        {
          "output_type": "stream",
          "name": "stdout",
          "text": [
            "[[[108  76 255]\n",
            "  [108  76 255]\n",
            "  [108  76 255]\n",
            "  ...\n",
            "  [108  76 255]\n",
            "  [108  76 255]\n",
            "  [108  76 255]]\n",
            "\n",
            " [[108  76 255]\n",
            "  [108  76 255]\n",
            "  [108  76 255]\n",
            "  ...\n",
            "  [108  76 255]\n",
            "  [108  76 255]\n",
            "  [108  76 255]]\n",
            "\n",
            " [[108  76 255]\n",
            "  [108  76 255]\n",
            "  [108  76 255]\n",
            "  ...\n",
            "  [108  76 255]\n",
            "  [108  76 255]\n",
            "  [108  76 255]]\n",
            "\n",
            " ...\n",
            "\n",
            " [[108  76 255]\n",
            "  [108  76 255]\n",
            "  [108  76 255]\n",
            "  ...\n",
            "  [108  76 255]\n",
            "  [108  76 255]\n",
            "  [108  76 255]]\n",
            "\n",
            " [[108  76 255]\n",
            "  [108  76 255]\n",
            "  [108  76 255]\n",
            "  ...\n",
            "  [108  76 255]\n",
            "  [108  76 255]\n",
            "  [108  76 255]]\n",
            "\n",
            " [[108  76 255]\n",
            "  [108  76 255]\n",
            "  [108  76 255]\n",
            "  ...\n",
            "  [108  76 255]\n",
            "  [108  76 255]\n",
            "  [108  76 255]]]\n"
          ]
        },
        {
          "output_type": "error",
          "ename": "TypeError",
          "evalue": "ignored",
          "traceback": [
            "\u001b[0;31m---------------------------------------------------------------------------\u001b[0m",
            "\u001b[0;31mTypeError\u001b[0m                                 Traceback (most recent call last)",
            "\u001b[0;32m<ipython-input-60-cff31a09aefe>\u001b[0m in \u001b[0;36m<module>\u001b[0;34m\u001b[0m\n\u001b[1;32m      1\u001b[0m \u001b[0mprint\u001b[0m\u001b[0;34m(\u001b[0m\u001b[0mhsv_train\u001b[0m\u001b[0;34m[\u001b[0m\u001b[0;36m0\u001b[0m\u001b[0;34m]\u001b[0m\u001b[0;34m)\u001b[0m\u001b[0;34m\u001b[0m\u001b[0;34m\u001b[0m\u001b[0m\n\u001b[0;32m----> 2\u001b[0;31m \u001b[0mpath_\u001b[0m\u001b[0;34m=\u001b[0m\u001b[0mos\u001b[0m\u001b[0;34m.\u001b[0m\u001b[0mpath\u001b[0m\u001b[0;34m.\u001b[0m\u001b[0mjoin\u001b[0m\u001b[0;34m(\u001b[0m\u001b[0mmyrootPath\u001b[0m\u001b[0;34m,\u001b[0m\u001b[0mhsv_train\u001b[0m\u001b[0;34m[\u001b[0m\u001b[0;36m0\u001b[0m\u001b[0;34m]\u001b[0m\u001b[0;34m)\u001b[0m\u001b[0;34m\u001b[0m\u001b[0;34m\u001b[0m\u001b[0m\n\u001b[0m\u001b[1;32m      3\u001b[0m \u001b[0mimg\u001b[0m \u001b[0;34m=\u001b[0m \u001b[0mmpimg\u001b[0m\u001b[0;34m.\u001b[0m \u001b[0mimread\u001b[0m\u001b[0;34m(\u001b[0m\u001b[0mpath_\u001b[0m\u001b[0;34m)\u001b[0m\u001b[0;34m\u001b[0m\u001b[0;34m\u001b[0m\u001b[0m\n",
            "\u001b[0;32m/usr/lib/python3.7/posixpath.py\u001b[0m in \u001b[0;36mjoin\u001b[0;34m(a, *p)\u001b[0m\n\u001b[1;32m     92\u001b[0m                 \u001b[0mpath\u001b[0m \u001b[0;34m+=\u001b[0m \u001b[0msep\u001b[0m \u001b[0;34m+\u001b[0m \u001b[0mb\u001b[0m\u001b[0;34m\u001b[0m\u001b[0;34m\u001b[0m\u001b[0m\n\u001b[1;32m     93\u001b[0m     \u001b[0;32mexcept\u001b[0m \u001b[0;34m(\u001b[0m\u001b[0mTypeError\u001b[0m\u001b[0;34m,\u001b[0m \u001b[0mAttributeError\u001b[0m\u001b[0;34m,\u001b[0m \u001b[0mBytesWarning\u001b[0m\u001b[0;34m)\u001b[0m\u001b[0;34m:\u001b[0m\u001b[0;34m\u001b[0m\u001b[0;34m\u001b[0m\u001b[0m\n\u001b[0;32m---> 94\u001b[0;31m         \u001b[0mgenericpath\u001b[0m\u001b[0;34m.\u001b[0m\u001b[0m_check_arg_types\u001b[0m\u001b[0;34m(\u001b[0m\u001b[0;34m'join'\u001b[0m\u001b[0;34m,\u001b[0m \u001b[0ma\u001b[0m\u001b[0;34m,\u001b[0m \u001b[0;34m*\u001b[0m\u001b[0mp\u001b[0m\u001b[0;34m)\u001b[0m\u001b[0;34m\u001b[0m\u001b[0;34m\u001b[0m\u001b[0m\n\u001b[0m\u001b[1;32m     95\u001b[0m         \u001b[0;32mraise\u001b[0m\u001b[0;34m\u001b[0m\u001b[0;34m\u001b[0m\u001b[0m\n\u001b[1;32m     96\u001b[0m     \u001b[0;32mreturn\u001b[0m \u001b[0mpath\u001b[0m\u001b[0;34m\u001b[0m\u001b[0;34m\u001b[0m\u001b[0m\n",
            "\u001b[0;32m/usr/lib/python3.7/genericpath.py\u001b[0m in \u001b[0;36m_check_arg_types\u001b[0;34m(funcname, *args)\u001b[0m\n\u001b[1;32m    151\u001b[0m         \u001b[0;32melse\u001b[0m\u001b[0;34m:\u001b[0m\u001b[0;34m\u001b[0m\u001b[0;34m\u001b[0m\u001b[0m\n\u001b[1;32m    152\u001b[0m             raise TypeError('%s() argument must be str or bytes, not %r' %\n\u001b[0;32m--> 153\u001b[0;31m                             (funcname, s.__class__.__name__)) from None\n\u001b[0m\u001b[1;32m    154\u001b[0m     \u001b[0;32mif\u001b[0m \u001b[0mhasstr\u001b[0m \u001b[0;32mand\u001b[0m \u001b[0mhasbytes\u001b[0m\u001b[0;34m:\u001b[0m\u001b[0;34m\u001b[0m\u001b[0;34m\u001b[0m\u001b[0m\n\u001b[1;32m    155\u001b[0m         \u001b[0;32mraise\u001b[0m \u001b[0mTypeError\u001b[0m\u001b[0;34m(\u001b[0m\u001b[0;34m\"Can't mix strings and bytes in path components\"\u001b[0m\u001b[0;34m)\u001b[0m \u001b[0;32mfrom\u001b[0m \u001b[0;32mNone\u001b[0m\u001b[0;34m\u001b[0m\u001b[0;34m\u001b[0m\u001b[0m\n",
            "\u001b[0;31mTypeError\u001b[0m: join() argument must be str or bytes, not 'ndarray'"
          ]
        }
      ]
    },
    {
      "cell_type": "code",
      "source": [],
      "metadata": {
        "id": "0l7j1iAwJ1RD"
      },
      "execution_count": null,
      "outputs": []
    },
    {
      "cell_type": "code",
      "source": [
        "path"
      ],
      "metadata": {
        "colab": {
          "base_uri": "https://localhost:8080/",
          "height": 35
        },
        "id": "CHP8cRydLJsB",
        "outputId": "b76b8d58-ee96-4a25-ba73-530bbf3105bb"
      },
      "execution_count": null,
      "outputs": [
        {
          "output_type": "execute_result",
          "data": {
            "text/plain": [
              "'/content/tmp/train/476.png'"
            ],
            "application/vnd.google.colaboratory.intrinsic+json": {
              "type": "string"
            }
          },
          "metadata": {},
          "execution_count": 49
        }
      ]
    },
    {
      "cell_type": "code",
      "source": [
        "bgr_img = cv2.imread(path)"
      ],
      "metadata": {
        "id": "6WrALAwqJlRD"
      },
      "execution_count": null,
      "outputs": []
    },
    {
      "cell_type": "code",
      "source": [
        "bgr_img"
      ],
      "metadata": {
        "colab": {
          "base_uri": "https://localhost:8080/"
        },
        "id": "WzZByFN_JlNo",
        "outputId": "b124b8d2-15e4-4171-e881-d762bbd21bd2"
      },
      "execution_count": null,
      "outputs": [
        {
          "output_type": "execute_result",
          "data": {
            "text/plain": [
              "array([[[255, 209, 179],\n",
              "        [255, 209, 179],\n",
              "        [255, 209, 179],\n",
              "        ...,\n",
              "        [255, 209, 179],\n",
              "        [255, 209, 179],\n",
              "        [255, 209, 179]],\n",
              "\n",
              "       [[255, 209, 179],\n",
              "        [255, 209, 179],\n",
              "        [255, 209, 179],\n",
              "        ...,\n",
              "        [255, 209, 179],\n",
              "        [255, 209, 179],\n",
              "        [255, 209, 179]],\n",
              "\n",
              "       [[255, 209, 179],\n",
              "        [255, 209, 179],\n",
              "        [255, 209, 179],\n",
              "        ...,\n",
              "        [255, 209, 179],\n",
              "        [255, 209, 179],\n",
              "        [255, 209, 179]],\n",
              "\n",
              "       ...,\n",
              "\n",
              "       [[255, 209, 179],\n",
              "        [255, 209, 179],\n",
              "        [255, 209, 179],\n",
              "        ...,\n",
              "        [255, 209, 179],\n",
              "        [255, 209, 179],\n",
              "        [255, 209, 179]],\n",
              "\n",
              "       [[255, 209, 179],\n",
              "        [255, 209, 179],\n",
              "        [255, 209, 179],\n",
              "        ...,\n",
              "        [255, 209, 179],\n",
              "        [255, 209, 179],\n",
              "        [255, 209, 179]],\n",
              "\n",
              "       [[255, 209, 179],\n",
              "        [255, 209, 179],\n",
              "        [255, 209, 179],\n",
              "        ...,\n",
              "        [255, 209, 179],\n",
              "        [255, 209, 179],\n",
              "        [255, 209, 179]]], dtype=uint8)"
            ]
          },
          "metadata": {},
          "execution_count": 51
        }
      ]
    },
    {
      "cell_type": "code",
      "source": [],
      "metadata": {
        "id": "kLr9aCa4JlLr"
      },
      "execution_count": null,
      "outputs": []
    }
  ]
}